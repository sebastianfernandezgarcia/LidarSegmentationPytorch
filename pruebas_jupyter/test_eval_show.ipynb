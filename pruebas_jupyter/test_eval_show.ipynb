{
 "cells": [
  {
   "cell_type": "code",
   "execution_count": 6,
   "metadata": {},
   "outputs": [],
   "source": [
    "import numpy as np\n",
    "all_pred_labels = np.zeros(7)"
   ]
  },
  {
   "cell_type": "code",
   "execution_count": 8,
   "metadata": {},
   "outputs": [],
   "source": [
    "all_points = np.empty((0, 3)) # inicializar el array vacío"
   ]
  },
  {
   "cell_type": "code",
   "execution_count": 9,
   "metadata": {},
   "outputs": [
    {
     "name": "stdout",
     "output_type": "stream",
     "text": [
      "[]\n"
     ]
    }
   ],
   "source": [
    "print(all_points)"
   ]
  },
  {
   "cell_type": "code",
   "execution_count": 7,
   "metadata": {},
   "outputs": [
    {
     "name": "stdout",
     "output_type": "stream",
     "text": [
      "[0. 0. 0. 0. 0. 0. 0.]\n"
     ]
    }
   ],
   "source": [
    "print(all_pred_labels)"
   ]
  },
  {
   "cell_type": "code",
   "execution_count": null,
   "metadata": {},
   "outputs": [],
   "source": [
    "#dentro del siguiente bucle, quiero hacer un gran array que vaya concatenando los valores de points\n",
    "\n",
    "for i in range(len(test_dataset)):\n",
    "    print(i)\n",
    "\n",
    "    #sample = test_dataset[opt.sample_idx]\n",
    "    sample = test_dataset[i]\n",
    "\n",
    "    import time\n",
    "    #print(sample.shape)\n",
    "    #time.sleep(20)\n",
    "    print('Eval test sample ..')\n",
    "    pred_label, gt_label = eval_sample(net, sample)\n",
    "    print('Eval done ..')\n",
    "\n",
    "\n",
    "    # Get sample result\n",
    "    print('Compute mIoU ..')\n",
    "    points = sample['points'].numpy()\n",
    "\n",
    "    original_points = sample['original_points']\n",
    "\n",
    "    pred_labels = pred_label.numpy()\n",
    "    gt_labels = gt_label.numpy()\n",
    "    diff_labels = label_diff(pred_labels, gt_labels)\n",
    "\n",
    "\n"
   ]
  }
 ],
 "metadata": {
  "kernelspec": {
   "display_name": "PytorchGeometric",
   "language": "python",
   "name": "python3"
  },
  "language_info": {
   "codemirror_mode": {
    "name": "ipython",
    "version": 3
   },
   "file_extension": ".py",
   "mimetype": "text/x-python",
   "name": "python",
   "nbconvert_exporter": "python",
   "pygments_lexer": "ipython3",
   "version": "3.9.16"
  },
  "orig_nbformat": 4
 },
 "nbformat": 4,
 "nbformat_minor": 2
}
