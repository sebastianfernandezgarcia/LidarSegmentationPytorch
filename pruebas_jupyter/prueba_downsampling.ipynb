{
 "cells": [
  {
   "cell_type": "code",
   "execution_count": null,
   "metadata": {},
   "outputs": [],
   "source": [
    "import numpy as np\n",
    "\n",
    "# Supongamos que tenemos una matriz de puntos de tamaño (N, 3)\n",
    "\n",
    "npuntos = 20000\n",
    "puntos = np.random.rand(npuntos, 3)\n",
    "\n",
    "# Definimos el tamaño del voxel\n",
    "tam_voxel = 0.1\n",
    "\n",
    "# Calculamos el número de voxels en cada dimensión\n",
    "n_voxels = np.ceil((np.max(puntos, axis=0) - np.min(puntos, axis=0)) / tam_voxel).astype(int)\n",
    "\n",
    "# Creamos una matriz de índices de voxels para cada punto\n",
    "indices_voxels = np.floor((puntos - np.min(puntos, axis=0)) / tam_voxel).astype(int)\n",
    "\n",
    "# Creamos una matriz de frecuencias de voxels\n",
    "frec_voxels = np.zeros((n_voxels[0], n_voxels[1], n_voxels[2]), dtype=int)\n",
    "\n",
    "# Recorremos cada voxel y contamos la frecuencia de puntos que caen dentro de él\n",
    "for i in range(n_voxels[0]):\n",
    "    for j in range(n_voxels[1]):\n",
    "        for k in range(n_voxels[2]):\n",
    "            mascara = (indices_voxels[:, 0] == i) & (indices_voxels[:, 1] == j) & (indices_voxels[:, 2] == k)\n",
    "            frec_voxels[i, j, k] = np.sum(mascara)\n",
    "\n",
    "# Creamos una matriz de etiquetas para cada punto\n",
    "etiquetas = np.zeros(npuntos, dtype=int)\n",
    "\n",
    "# Recorremos cada voxel y asignamos la etiqueta más frecuente a los puntos que caen dentro de él\n",
    "for i in range(n_voxels[0]):\n",
    "    for j in range(n_voxels[1]):\n",
    "        for k in range(n_voxels[2]):\n",
    "            mascara = (indices_voxels[:, 0] == i) & (indices_voxels[:, 1] == j) & (indices_voxels[:, 2] == k)\n",
    "            puntos_voxel = puntos[mascara]\n",
    "            if puntos_voxel.shape[0] > 0:\n",
    "                etiquetas[mascara] = np.argmax(np.bincount(puntos_voxel[:, -1].astype(int)))\n",
    "\n",
    "# Creamos una matriz de frecuencias de etiquetas\n",
    "frec_etiquetas = np.bincount(etiquetas)\n",
    "\n",
    "# Seleccionamos los 16384 puntos más representativos\n",
    "puntos_sel = np.zeros((16384, 3))\n",
    "for i in range(16384):\n",
    "    voxel_mas_frecuente = np.unravel_index(np.argmax(frec_voxels), frec_voxels.shape)\n",
    "    mascara = (indices_voxels[:, 0] == voxel_mas_frecuente[0]) & (indices_voxels[:, 1] == voxel_mas_frecuente[1]) & (indices_voxels[:, 2] == voxel_mas_frecuente[2])\n",
    "    puntos_voxel = puntos\n",
    "\n",
    "    if puntos_voxel.shape[0] > 0:\n",
    "        etiquetas_voxel = etiquetas[mascara]\n",
    "        etiqueta_mas_frecuente = np.argmax(np.bincount(etiquetas_voxel))\n",
    "        puntos_mas_representativos = puntos_voxel[etiquetas_voxel == etiqueta_mas_frecuente][:, :-1]\n",
    "        punto_mas_cercano = puntos_mas_representativos[np.argmin(np.sum(np.square(puntos_mas_representativos - puntos_sel[:i]), axis=1))]\n",
    "        puntos_sel[i] = np.concatenate((punto_mas_cercano, np.array([etiqueta_mas_frecuente])))\n",
    "        frec_voxels[voxel_mas_frecuente] = 0\n",
    "    else:\n",
    "        break\n"
   ]
  },
  {
   "cell_type": "code",
   "execution_count": 9,
   "metadata": {},
   "outputs": [],
   "source": [
    "import numpy as np\n",
    "from sklearn.cluster import KMeans\n",
    "\n",
    "def downsample_point_cloud(point_cloud, num_points=1634, voxel_size=0.1):\n",
    "    # Create voxel grid\n",
    "    min_bounds = np.min(point_cloud[:, :3], axis=0)\n",
    "    max_bounds = np.max(point_cloud[:, :3], axis=0)\n",
    "    voxel_grid = np.zeros(np.ceil((max_bounds - min_bounds) / voxel_size).astype(int))\n",
    "    for i in range(point_cloud.shape[0]):\n",
    "        voxel_coords = np.floor((point_cloud[i, :3] - min_bounds) / voxel_size).astype(int)\n",
    "        voxel_grid[tuple(voxel_coords)] += point_cloud[i, :3]\n",
    "    voxel_centers = []\n",
    "    for coords, voxel_sum in np.ndenumerate(voxel_grid):\n",
    "        if voxel_sum.any():\n",
    "            voxel_points = point_cloud[tuple(np.argwhere(np.all(point_cloud[:, :3] == voxel_sum, axis=1))[0]), :]\n",
    "            if not np.isnan(voxel_points[:, 3:]).any():\n",
    "                voxel_intensity = np.mean(voxel_points[:, 3])\n",
    "                voxel_class = np.mean(voxel_points[:, 4])\n",
    "                voxel_centers.append(np.concatenate((voxel_sum / np.sum(voxel_grid[coords]), [voxel_intensity, voxel_class])))\n",
    "    voxel_centers = np.array(voxel_centers)\n",
    "\n",
    "    # Select subset of points\n",
    "    if voxel_centers.shape[0] <= num_points:\n",
    "        return voxel_centers\n",
    "    else:\n",
    "        kmeans = KMeans(n_clusters=num_points)\n",
    "        kmeans.fit(voxel_centers[:, :3])\n",
    "        return np.concatenate((kmeans.cluster_centers_, voxel_centers[:, 3:]), axis=1)\n"
   ]
  },
  {
   "cell_type": "code",
   "execution_count": 79,
   "metadata": {},
   "outputs": [
    {
     "name": "stdout",
     "output_type": "stream",
     "text": [
      "Downsample the point cloud with a voxel of 0.05\n"
     ]
    },
    {
     "data": {
      "text/plain": [
       "16384"
      ]
     },
     "execution_count": 79,
     "metadata": {},
     "output_type": "execute_result"
    }
   ],
   "source": [
    "import open3d as o3d\n",
    "import numpy as np\n",
    "from matplotlib import cm\n",
    "\n",
    "# Define colors for each class\n",
    "MisColores = {\n",
    "    1: np.array([0.5,0.25,0]), #terreno\n",
    "    2: np.array([0.1,0.6,0]),  #vegetación\n",
    "    3: np.array([0.99,0,0]), #coche\n",
    "    4: np.array([0.5,0.5,0.5]), #torre\n",
    "    5: np.array([0.99,0,0.99]), #cable\n",
    "    6: np.array([0.1,0.1,0.1]), #valla/muro\n",
    "    7: np.array([0.99,0.99,0]), #farola\n",
    "    8: np.array([0.15,0.09,0.9]), #edificio\n",
    "}\n",
    "\n",
    "#data = np.load('pruebas_las_cortados/section_431749.71_4598734.71.npy')\n",
    "\n",
    "data = np.load('cortados/d2RCD-4-grafos-joint_153.npy')\n",
    "data = np.load('nube_de_puntos.npy')\n",
    "x = data[:, 0]\n",
    "y = data[:, 1]\n",
    "z = data[:, 2]\n",
    "c = data[:, 4].astype(int)\n",
    "r = data[:, 3]\n",
    "\n",
    "points = data[:, 0:3]\n",
    "\n",
    "# Assign colors to each point based on the corresponding value in the c array\n",
    "colors = np.zeros_like(points)\n",
    "for i, value in MisColores.items():\n",
    "    mask = (c == i)\n",
    "    colors[mask] = value\n",
    "\n",
    "cloud = o3d.geometry.PointCloud()\n",
    "cloud.points = o3d.utility.Vector3dVector(points)\n",
    "cloud.colors = o3d.utility.Vector3dVector(colors)\n",
    "o3d.visualization.draw_geometries([cloud])\n",
    "\n",
    "\n",
    "print(\"Downsample the point cloud with a voxel of 0.05\")\n",
    "downpcd = cloud.farthest_point_down_sample(num_samples=16384)\n",
    "o3d.visualization.draw_geometries([downpcd])\n",
    "len(downpcd.points)\n"
   ]
  },
  {
   "cell_type": "code",
   "execution_count": 82,
   "metadata": {},
   "outputs": [],
   "source": [
    "import numpy as np\n",
    "import open3d as o3d\n",
    "\n",
    "# Load the point cloud from a numpy file\n",
    "data = np.load('cortados/d2RCD-4-grafos-joint_153.npy')\n",
    "points = data[:, :3]\n",
    "colors = data[:, 4:]\n",
    "\n",
    "# Create an Open3D point cloud object and assign colors\n",
    "cloud = o3d.geometry.PointCloud()\n",
    "cloud.points = o3d.utility.Vector3dVector(points)\n",
    "\n",
    "\n",
    "# Downsample the point cloud using farthest point sampling\n",
    "downpcd = cloud.farthest_point_down_sample(num_samples=16384)\n",
    "\n",
    "# Save the downsampled point cloud as a numpy file\n",
    "np.save('downsampled.npy', np.asarray(downpcd.points))\n",
    "\n",
    "# Visualize the downsampled point cloud\n",
    "o3d.visualization.draw_geometries([downpcd])\n",
    "\n"
   ]
  },
  {
   "cell_type": "code",
   "execution_count": 1,
   "metadata": {},
   "outputs": [
    {
     "name": "stdout",
     "output_type": "stream",
     "text": [
      "Jupyter environment detected. Enabling Open3D WebVisualizer.\n",
      "[Open3D INFO] WebRTC GUI backend enabled.\n",
      "[Open3D INFO] WebRTCWindowSystem: HTTP handshake server disabled.\n"
     ]
    },
    {
     "ename": "AttributeError",
     "evalue": "'open3d.cpu.pybind.geometry.PointCloud' object has no attribute 'indicies'",
     "output_type": "error",
     "traceback": [
      "\u001b[1;31m---------------------------------------------------------------------------\u001b[0m",
      "\u001b[1;31mAttributeError\u001b[0m                            Traceback (most recent call last)",
      "Cell \u001b[1;32mIn[1], line 30\u001b[0m\n\u001b[0;32m     27\u001b[0m np\u001b[39m.\u001b[39msave(\u001b[39m'\u001b[39m\u001b[39mdownsampled.npy\u001b[39m\u001b[39m'\u001b[39m, downpcd\u001b[39m.\u001b[39mpoints)\n\u001b[0;32m     29\u001b[0m \u001b[39m# Save the downsampled point cloud with its color and intensity values\u001b[39;00m\n\u001b[1;32m---> 30\u001b[0m np\u001b[39m.\u001b[39msave(\u001b[39m'\u001b[39m\u001b[39mdownsampled_with_data.npy\u001b[39m\u001b[39m'\u001b[39m, points_with_data[downpcd\u001b[39m.\u001b[39;49mindicies])\n\u001b[0;32m     32\u001b[0m \u001b[39m# Visualize the downsampled point cloud\u001b[39;00m\n\u001b[0;32m     33\u001b[0m o3d\u001b[39m.\u001b[39mvisualization\u001b[39m.\u001b[39mdraw_geometries([downpcd])\n",
      "\u001b[1;31mAttributeError\u001b[0m: 'open3d.cpu.pybind.geometry.PointCloud' object has no attribute 'indicies'"
     ]
    }
   ],
   "source": [
    "import numpy as np\n",
    "import open3d as o3d\n",
    "\n",
    "# Load the point cloud from a numpy file\n",
    "data = np.load('nube_de_puntos.npy')\n",
    "data = np.load('cortados/d2RCD-4-grafos-joint_153.npy')\n",
    "\n",
    "# Extract x, y, z, c, and r from the data array\n",
    "x = data[:, 0]\n",
    "y = data[:, 1]\n",
    "z = data[:, 2]\n",
    "c = data[:, 4].astype(int)\n",
    "r = data[:, 3]\n",
    "\n",
    "# Create a new array with the coordinates, colors, and intensities\n",
    "points_with_data = np.column_stack((x, y, z, c, r))\n",
    "\n",
    "# Create an Open3D point cloud object\n",
    "cloud = o3d.geometry.PointCloud()\n",
    "cloud.points = o3d.utility.Vector3dVector(points_with_data[:, :3])\n",
    "#cloud.colors = o3d.utility.Vector3dVector(points_with_data[:, 3:6])\n",
    "\n",
    "# Downsample the point cloud using farthest point sampling\n",
    "downpcd = cloud.farthest_point_down_sample(num_samples=16384)\n",
    "\n",
    "# Save the downsampled point cloud as a numpy file\n",
    "np.save('downsampled.npy', downpcd.points)\n",
    "\n",
    "# Save the downsampled point cloud with its color and intensity values\n",
    "np.save('downsampled_with_data.npy', points_with_data[downpcd.indicies])\n",
    "\n",
    "# Visualize the downsampled point cloud\n",
    "o3d.visualization.draw_geometries([downpcd])\n"
   ]
  },
  {
   "cell_type": "code",
   "execution_count": null,
   "metadata": {},
   "outputs": [],
   "source": [
    "data = np.load('cortados/d2RCD-4-grafos-joint_049.npy')\n",
    "\n",
    "MisColores = {\n",
    "    1: np.array([0.5,0.25,0]), #terreno\n",
    "    2: np.array([0.1,0.6,0]),  #vegetación\n",
    "    3: np.array([0.99,0,0]), #coche\n",
    "    4: np.array([0.5,0.5,0.5]), #torre\n",
    "    5: np.array([0.99,0,0.99]), #cable\n",
    "    6: np.array([0.1,0.1,0.1]), #valla/muro\n",
    "    7: np.array([0.99,0.99,0]), #farola\n",
    "    8: np.array([0.15,0.09,0.9]), #edificio\n",
    "}\n",
    "\n",
    "x = data[:, 0]\n",
    "y = data[:, 1]\n",
    "z = data[:, 2]\n",
    "c = data[:, 4].astype(int)\n",
    "r = data[:, 3]\n",
    "\n",
    "points = data[:, 0:3]\n",
    "\n",
    "point_cloud = data[:, 0:5]"
   ]
  },
  {
   "cell_type": "code",
   "execution_count": 17,
   "metadata": {},
   "outputs": [
    {
     "name": "stdout",
     "output_type": "stream",
     "text": [
      "Load a ply point cloud, print it, and render it\n",
      "[Open3D WARNING] Read geometry::PointCloud failed: unknown file extension for cortados/d2RCD-4-grafos-joint_049.npy (format: auto).\n",
      "PointCloud with 0 points.\n",
      "[]\n",
      "Downsample the point cloud with a voxel of 0.05\n",
      "Recompute the normal of the downsampled point cloud\n",
      "[Open3D WARNING] [KDTreeFlann::SetRawData] Failed due to no data.\n",
      "Print a normal vector of the 0th point\n"
     ]
    },
    {
     "ename": "IndexError",
     "evalue": "",
     "output_type": "error",
     "traceback": [
      "\u001b[1;31m---------------------------------------------------------------------------\u001b[0m",
      "\u001b[1;31mIndexError\u001b[0m                                Traceback (most recent call last)",
      "Cell \u001b[1;32mIn[17], line 17\u001b[0m\n\u001b[0;32m     14\u001b[0m o3d\u001b[39m.\u001b[39mvisualization\u001b[39m.\u001b[39mdraw_geometries([downpcd])\n\u001b[0;32m     16\u001b[0m \u001b[39mprint\u001b[39m(\u001b[39m\"\u001b[39m\u001b[39mPrint a normal vector of the 0th point\u001b[39m\u001b[39m\"\u001b[39m)\n\u001b[1;32m---> 17\u001b[0m \u001b[39mprint\u001b[39m(downpcd\u001b[39m.\u001b[39;49mnormals[\u001b[39m0\u001b[39;49m])\n\u001b[0;32m     18\u001b[0m \u001b[39mprint\u001b[39m(\u001b[39m\"\u001b[39m\u001b[39mPrint the normal vectors of the first 10 points\u001b[39m\u001b[39m\"\u001b[39m)\n\u001b[0;32m     19\u001b[0m \u001b[39mprint\u001b[39m(np\u001b[39m.\u001b[39masarray(downpcd\u001b[39m.\u001b[39mnormals)[:\u001b[39m10\u001b[39m, :])\n",
      "\u001b[1;31mIndexError\u001b[0m: "
     ]
    }
   ],
   "source": [
    "\n",
    "\n",
    "\n",
    "    print(\"Downsample the point cloud with a voxel of 0.05\")\n",
    "    downpcd = pcd.voxel_down_sample(voxel_size=0.05)\n",
    "    o3d.visualization.draw_geometries([downpcd])"
   ]
  }
 ],
 "metadata": {
  "kernelspec": {
   "display_name": "PytorchGeometric",
   "language": "python",
   "name": "python3"
  },
  "language_info": {
   "codemirror_mode": {
    "name": "ipython",
    "version": 3
   },
   "file_extension": ".py",
   "mimetype": "text/x-python",
   "name": "python",
   "nbconvert_exporter": "python",
   "pygments_lexer": "ipython3",
   "version": "3.9.16"
  },
  "orig_nbformat": 4
 },
 "nbformat": 4,
 "nbformat_minor": 2
}
