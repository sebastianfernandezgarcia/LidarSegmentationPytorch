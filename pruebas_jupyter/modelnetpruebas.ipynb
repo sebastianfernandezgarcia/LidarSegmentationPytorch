{
 "cells": [
  {
   "cell_type": "code",
   "execution_count": null,
   "metadata": {},
   "outputs": [],
   "source": []
  },
  {
   "cell_type": "code",
   "execution_count": null,
   "metadata": {},
   "outputs": [],
   "source": [
    "fichero = 'C:/Users/sfernandez/nueva_etapa/github2/LidarSegmentationPytorch/Datasets/ModelNet40/airplane/train/airplane_0001.off'"
   ]
  },
  {
   "cell_type": "code",
   "execution_count": null,
   "metadata": {},
   "outputs": [],
   "source": [
    "import numpy as np\n",
    "import trimesh\n",
    "import time\n",
    "\n",
    "def convert_off_to_npy(off_file, npy_file):\n",
    "    mesh = trimesh.load(off_file)\n",
    "    vertices = mesh.vertices\n",
    "    print(mesh.metadata)\n",
    "        # Obtener las clases (si están disponibles en el archivo .off)\n",
    "    if 'class' in mesh.metadata:\n",
    "        classes = mesh.metadata['class']\n",
    "    else:\n",
    "        classes = None\n",
    "\n",
    "    print(classes)\n",
    "    # Guardar las coordenadas y las clases en un archivo .npy\n",
    "    data = {'vertices': vertices, 'classes': classes}\n",
    "\n",
    "\n",
    "\n",
    "\n",
    "    np.save(npy_file, data)\n",
    "\n",
    "# Ruta del archivo .off de entrada y ruta del archivo .npy de salida\n",
    "off_file = 'C:/Users/sfernandez/nueva_etapa/github2/LidarSegmentationPytorch/Datasets/ModelNet40/airplane/train/airplane_0001.off'\n",
    "npy_file = 'C:/Users/sfernandez/nueva_etapa/github2/LidarSegmentationPytorch/Datasets/ModelNet40/airplane/train/airplane_0001.npy'\n",
    "\n",
    "\n",
    "mesh = trimesh.load(off_file)\n",
    "\n",
    "# Obtener los atributos disponibles en el archivo\n",
    "atributos = mesh.metadata.keys()\n",
    "\n",
    "# Imprimir los atributos\n",
    "print(\"Atributos disponibles:\")\n",
    "for atributo in atributos:\n",
    "    print(atributo)\n",
    "\n",
    "processed_data = mesh.metadata['processed']\n",
    "\n",
    "# Imprimir el contenido de \"processed\"\n",
    "print(\"Contenido de 'processed':\")\n",
    "print(processed_data)\n",
    "\n",
    "convert_off_to_npy(off_file, npy_file)\n",
    "\n"
   ]
  },
  {
   "cell_type": "code",
   "execution_count": 3,
   "metadata": {},
   "outputs": [],
   "source": [
    "data = np.load('C:/Users/sfernandez/nueva_etapa/github2/LidarSegmentationPytorch/Datasets/ModelNet40/airplane/train/airplane_0001.npy')"
   ]
  },
  {
   "cell_type": "code",
   "execution_count": 5,
   "metadata": {},
   "outputs": [
    {
     "name": "stdout",
     "output_type": "stream",
     "text": [
      "(27817, 3)\n"
     ]
    }
   ],
   "source": [
    "print(data.shape)"
   ]
  }
 ],
 "metadata": {
  "kernelspec": {
   "display_name": "CUDA",
   "language": "python",
   "name": "python3"
  },
  "language_info": {
   "codemirror_mode": {
    "name": "ipython",
    "version": 3
   },
   "file_extension": ".py",
   "mimetype": "text/x-python",
   "name": "python",
   "nbconvert_exporter": "python",
   "pygments_lexer": "ipython3",
   "version": "3.6.13"
  },
  "orig_nbformat": 4
 },
 "nbformat": 4,
 "nbformat_minor": 2
}
