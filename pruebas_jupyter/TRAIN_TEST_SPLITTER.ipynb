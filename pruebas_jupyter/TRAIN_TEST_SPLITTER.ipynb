{
 "cells": [
  {
   "cell_type": "code",
   "execution_count": 12,
   "id": "aee4f99b",
   "metadata": {},
   "outputs": [],
   "source": [
    "import os\n",
    "import shutil\n",
    "import random\n",
    "\n",
    "# Set the path of the source folder containing the .npy files\n",
    "source_folder = r'procesadas_main\\normalized'\n",
    "\n",
    "# Set the paths of the destination folders for the split\n",
    "train_folder = r'procesadas_main\\normalized\\train'\n",
    "val_folder = r'procesadas_main\\normalized\\validation'\n",
    "\n",
    "# Set the percentage of files to be moved to the validation folder\n",
    "validation_split = 0.2\n",
    "\n",
    "# Create the destination folders if they don't already exist\n",
    "os.makedirs(train_folder, exist_ok=True)\n",
    "os.makedirs(val_folder, exist_ok=True)\n",
    "\n",
    "# Get the list of .npy files in the source folder\n",
    "file_list = [f for f in os.listdir(source_folder) if f.endswith('.npy')]\n",
    "\n",
    "# Calculate the number of files to be moved to the validation folder\n",
    "num_val_files = int(len(file_list) * validation_split)\n",
    "\n",
    "# Randomly select the files to be moved to the validation folder\n",
    "val_files = random.sample(file_list, num_val_files)\n",
    "\n",
    "# Move the files to the train and validation folders\n",
    "for file_name in file_list:\n",
    "    if file_name in val_files:\n",
    "        dest_folder = val_folder\n",
    "    else:\n",
    "        dest_folder = train_folder\n",
    "\n",
    "    shutil.move(os.path.join(source_folder, file_name), os.path.join(dest_folder, file_name))\n"
   ]
  }
 ],
 "metadata": {
  "kernelspec": {
   "display_name": "CUDA",
   "language": "python",
   "name": "python3"
  },
  "language_info": {
   "codemirror_mode": {
    "name": "ipython",
    "version": 3
   },
   "file_extension": ".py",
   "mimetype": "text/x-python",
   "name": "python",
   "nbconvert_exporter": "python",
   "pygments_lexer": "ipython3",
   "version": "3.9.16"
  },
  "vscode": {
   "interpreter": {
    "hash": "fbe99cd13fa0a2db4797850dc9075c96b213ccd493dc5e335ea13a7a642be5d2"
   }
  }
 },
 "nbformat": 4,
 "nbformat_minor": 5
}
